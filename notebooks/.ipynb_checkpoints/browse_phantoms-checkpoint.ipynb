{
 "cells": [
  {
   "cell_type": "markdown",
   "metadata": {},
   "source": [
    "This notebook explores a number of basic phantoms.\n",
    "It also illustrates how to go back and forth between an image and its radon transform."
   ]
  },
  {
   "cell_type": "code",
   "execution_count": null,
   "metadata": {},
   "outputs": [],
   "source": [
    "import tomophantom\n",
    "from tomophantom.supp.artifacts import _Artifacts_\n",
    "from   tomophantom import TomoP2D\n",
    "import numpy as np\n",
    "import matplotlib.pyplot as plt\n",
    "import os\n",
    "from deeptomo import radon_transform\n",
    "import torch\n"
   ]
  },
  {
   "cell_type": "code",
   "execution_count": null,
   "metadata": {},
   "outputs": [],
   "source": [
    "N_size     = 1024\n",
    "angles_num = 180\n",
    "models     = np.arange(15) + 1\n",
    "P          = int(np.sqrt(2) * N_size)\n",
    "if P%2==0:\n",
    "    P=P+1\n",
    "\n",
    "path       = os.path.dirname(tomophantom.__file__)\n",
    "path2Dlib  = os.path.join(path, \"Phantom2DLibrary.dat\")"
   ]
  },
  {
   "cell_type": "code",
   "execution_count": null,
   "metadata": {
    "scrolled": false
   },
   "outputs": [],
   "source": [
    "device='cuda'\n",
    "ktraj = radon_transform.kspace_builder(angles_num, P, kmax=2).to(device)\n",
    "rf = radon_transform.radon_forward((N_size,N_size),(angles_num, P), ktraj, device).to(device)\n",
    "rb = radon_transform.radon_backward((N_size,N_size),(angles_num, P), ktraj, device).to(device)"
   ]
  },
  {
   "cell_type": "code",
   "execution_count": null,
   "metadata": {
    "scrolled": false
   },
   "outputs": [],
   "source": [
    "for model in models:        \n",
    "    # Initialise True phantom and sinogram\n",
    "    phantom_2D = TomoP2D.Model(model, N_size, path2Dlib)\n",
    "    sino_an    = TomoP2D.ModelSino(model, N_size, P, angles, path2Dlib)\n",
    "    plt.imshow(phantom_2D)\n",
    "    plt.colorbar()\n",
    "    plt.show()\n",
    "    \n",
    "    sino = rf(torch.Tensor(phantom_2D).unsqueeze(0).unsqueeze(0).to(device))\n",
    "    plt.imshow(sino.cpu())\n",
    "    plt.show()\n",
    "    \n",
    "    recon = rb(sino.to(device))\n",
    "    plt.imshow(np.pi**2.0*np.sqrt(2)*recon[0,0,...].cpu())\n",
    "    plt.colorbar()\n",
    "    plt.show()\n",
    "    "
   ]
  },
  {
   "cell_type": "code",
   "execution_count": null,
   "metadata": {},
   "outputs": [],
   "source": []
  },
  {
   "cell_type": "code",
   "execution_count": null,
   "metadata": {},
   "outputs": [],
   "source": []
  },
  {
   "cell_type": "code",
   "execution_count": null,
   "metadata": {},
   "outputs": [],
   "source": []
  },
  {
   "cell_type": "code",
   "execution_count": null,
   "metadata": {},
   "outputs": [],
   "source": []
  },
  {
   "cell_type": "code",
   "execution_count": null,
   "metadata": {},
   "outputs": [],
   "source": []
  }
 ],
 "metadata": {
  "kernelspec": {
   "display_name": "work",
   "language": "python",
   "name": "work"
  },
  "language_info": {
   "codemirror_mode": {
    "name": "ipython",
    "version": 3
   },
   "file_extension": ".py",
   "mimetype": "text/x-python",
   "name": "python",
   "nbconvert_exporter": "python",
   "pygments_lexer": "ipython3",
   "version": "3.8.2"
  }
 },
 "nbformat": 4,
 "nbformat_minor": 1
}
